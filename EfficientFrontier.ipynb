{
 "cells": [
  {
   "cell_type": "markdown",
   "metadata": {},
   "source": [
    "# Efficient Frontier"
   ]
  },
  {
   "cell_type": "markdown",
   "metadata": {},
   "source": [
    "## Portfolio return for two stocks\n",
    "\n",
    "$r=\\omega_1 * \\mu_1 + \\omega_2 * \\mu_2$\n",
    "\n",
    "## Portfolio variance for two stocks\n",
    "\n",
    "$var = \\omega_1^2 * \\sigma_1^2 + \\omega_2^2 * \\sigma_2^2+2*\\omega_1*\\omega_2*Cov_{1,2}$"
   ]
  },
  {
   "cell_type": "code",
   "execution_count": 60,
   "metadata": {},
   "outputs": [],
   "source": [
    "import yfinance as yf\n",
    "import numpy as np\n",
    "import matplotlib.pyplot as plt"
   ]
  },
  {
   "cell_type": "markdown",
   "metadata": {},
   "source": [
    "### Get data"
   ]
  },
  {
   "cell_type": "code",
   "execution_count": 38,
   "metadata": {},
   "outputs": [
    {
     "name": "stdout",
     "output_type": "stream",
     "text": [
      "[*********************100%***********************]  2 of 2 completed\n"
     ]
    }
   ],
   "source": [
    "start_date = '2000-12-01'\n",
    "end_date = '2020-01-12'\n",
    "df = yf.download(['AAPL', 'CAT'], start=start_date, end= end_date)"
   ]
  },
  {
   "cell_type": "markdown",
   "metadata": {},
   "source": [
    "### Calculate log return"
   ]
  },
  {
   "cell_type": "code",
   "execution_count": 39,
   "metadata": {},
   "outputs": [],
   "source": [
    "df = np.log(1+df['Adj Close'].pct_change())"
   ]
  },
  {
   "cell_type": "code",
   "execution_count": 40,
   "metadata": {},
   "outputs": [
    {
     "data": {
      "text/html": [
       "<div>\n",
       "<style scoped>\n",
       "    .dataframe tbody tr th:only-of-type {\n",
       "        vertical-align: middle;\n",
       "    }\n",
       "\n",
       "    .dataframe tbody tr th {\n",
       "        vertical-align: top;\n",
       "    }\n",
       "\n",
       "    .dataframe thead th {\n",
       "        text-align: right;\n",
       "    }\n",
       "</style>\n",
       "<table border=\"1\" class=\"dataframe\">\n",
       "  <thead>\n",
       "    <tr style=\"text-align: right;\">\n",
       "      <th></th>\n",
       "      <th>AAPL</th>\n",
       "      <th>CAT</th>\n",
       "    </tr>\n",
       "    <tr>\n",
       "      <th>Date</th>\n",
       "      <th></th>\n",
       "      <th></th>\n",
       "    </tr>\n",
       "  </thead>\n",
       "  <tbody>\n",
       "    <tr>\n",
       "      <th>2000-11-30</th>\n",
       "      <td>NaN</td>\n",
       "      <td>NaN</td>\n",
       "    </tr>\n",
       "    <tr>\n",
       "      <th>2000-12-01</th>\n",
       "      <td>0.033523</td>\n",
       "      <td>0.034379</td>\n",
       "    </tr>\n",
       "    <tr>\n",
       "      <th>2000-12-04</th>\n",
       "      <td>-0.022223</td>\n",
       "      <td>0.062520</td>\n",
       "    </tr>\n",
       "    <tr>\n",
       "      <th>2000-12-05</th>\n",
       "      <td>0.018554</td>\n",
       "      <td>0.001442</td>\n",
       "    </tr>\n",
       "    <tr>\n",
       "      <th>2000-12-06</th>\n",
       "      <td>-0.172080</td>\n",
       "      <td>-0.042685</td>\n",
       "    </tr>\n",
       "    <tr>\n",
       "      <th>...</th>\n",
       "      <td>...</td>\n",
       "      <td>...</td>\n",
       "    </tr>\n",
       "    <tr>\n",
       "      <th>2020-01-06</th>\n",
       "      <td>0.007937</td>\n",
       "      <td>-0.000674</td>\n",
       "    </tr>\n",
       "    <tr>\n",
       "      <th>2020-01-07</th>\n",
       "      <td>-0.004714</td>\n",
       "      <td>-0.013301</td>\n",
       "    </tr>\n",
       "    <tr>\n",
       "      <th>2020-01-08</th>\n",
       "      <td>0.015958</td>\n",
       "      <td>0.008842</td>\n",
       "    </tr>\n",
       "    <tr>\n",
       "      <th>2020-01-09</th>\n",
       "      <td>0.021018</td>\n",
       "      <td>-0.002509</td>\n",
       "    </tr>\n",
       "    <tr>\n",
       "      <th>2020-01-10</th>\n",
       "      <td>0.002258</td>\n",
       "      <td>-0.008043</td>\n",
       "    </tr>\n",
       "  </tbody>\n",
       "</table>\n",
       "<p>4808 rows × 2 columns</p>\n",
       "</div>"
      ],
      "text/plain": [
       "                AAPL       CAT\n",
       "Date                          \n",
       "2000-11-30       NaN       NaN\n",
       "2000-12-01  0.033523  0.034379\n",
       "2000-12-04 -0.022223  0.062520\n",
       "2000-12-05  0.018554  0.001442\n",
       "2000-12-06 -0.172080 -0.042685\n",
       "...              ...       ...\n",
       "2020-01-06  0.007937 -0.000674\n",
       "2020-01-07 -0.004714 -0.013301\n",
       "2020-01-08  0.015958  0.008842\n",
       "2020-01-09  0.021018 -0.002509\n",
       "2020-01-10  0.002258 -0.008043\n",
       "\n",
       "[4808 rows x 2 columns]"
      ]
     },
     "execution_count": 40,
     "metadata": {},
     "output_type": "execute_result"
    }
   ],
   "source": [
    "df"
   ]
  },
  {
   "cell_type": "markdown",
   "metadata": {},
   "source": [
    "### Portfolio return for two stocks\n",
    "\n",
    "$r=\\omega_1 * \\mu_1 + \\omega_2 * \\mu_2$"
   ]
  },
  {
   "cell_type": "code",
   "execution_count": 33,
   "metadata": {},
   "outputs": [],
   "source": [
    "# Assumption equal weights\n",
    "weights = [0.5,0.5]"
   ]
  },
  {
   "cell_type": "code",
   "execution_count": 43,
   "metadata": {},
   "outputs": [],
   "source": [
    "def portfolioreturn(df, weights):\n",
    "    return np.dot(df.mean(), weights)"
   ]
  },
  {
   "cell_type": "code",
   "execution_count": 44,
   "metadata": {},
   "outputs": [
    {
     "data": {
      "text/plain": [
       "0.0008686145648165986"
      ]
     },
     "execution_count": 44,
     "metadata": {},
     "output_type": "execute_result"
    }
   ],
   "source": [
    "portfolioreturn(df, weights)"
   ]
  },
  {
   "cell_type": "markdown",
   "metadata": {},
   "source": [
    "### Portfolio variance for two stocks\n",
    "\n",
    "$var = \\omega_1^2 * \\sigma_1^2 + \\omega_2^2 * \\sigma_2^2+2*\\omega_1*\\omega_2*Cov_{1,2}$\n",
    "\n",
    "### Portfolio standard deviation for two stocks\n",
    "\n",
    "$std = \\sqrt{var}$"
   ]
  },
  {
   "cell_type": "code",
   "execution_count": 47,
   "metadata": {},
   "outputs": [],
   "source": [
    "def portfoliostd(df, weights):\n",
    "    return (np.dot(np.dot(df.cov(),weights),weights))**0.5*np.sqrt(250)"
   ]
  },
  {
   "cell_type": "code",
   "execution_count": 48,
   "metadata": {},
   "outputs": [
    {
     "data": {
      "text/plain": [
       "0.28208146494055497"
      ]
     },
     "execution_count": 48,
     "metadata": {},
     "output_type": "execute_result"
    }
   ],
   "source": [
    "portfoliostd(df, weights)"
   ]
  },
  {
   "cell_type": "markdown",
   "metadata": {},
   "source": [
    "### Simulate different portfolio weights"
   ]
  },
  {
   "cell_type": "code",
   "execution_count": 49,
   "metadata": {},
   "outputs": [],
   "source": [
    "def weightscreator(df):\n",
    "    rand=np.random.random(len(df.columns))\n",
    "    rand /=rand.sum()\n",
    "    return rand"
   ]
  },
  {
   "cell_type": "code",
   "execution_count": 56,
   "metadata": {},
   "outputs": [
    {
     "data": {
      "text/plain": [
       "array([0.6304698, 0.3695302])"
      ]
     },
     "execution_count": 56,
     "metadata": {},
     "output_type": "execute_result"
    }
   ],
   "source": [
    "weightscreator(df)"
   ]
  },
  {
   "cell_type": "markdown",
   "metadata": {},
   "source": [
    "### Simulate portfolio returns and standard deviations with simulated weights"
   ]
  },
  {
   "cell_type": "code",
   "execution_count": 58,
   "metadata": {},
   "outputs": [],
   "source": [
    "returns = []\n",
    "stds = []\n",
    "sim_weights =[]\n",
    "\n",
    "for i in range(1000):\n",
    "    weights= weightscreator(df)\n",
    "    returns.append(portfolioreturn(df, weights))\n",
    "    stds.append(portfoliostd(df, weights))\n",
    "    sim_weights.append(weights)"
   ]
  },
  {
   "cell_type": "code",
   "execution_count": 70,
   "metadata": {},
   "outputs": [
    {
     "data": {
      "image/png": "[encoded data removed]",
      "text/plain": [
       "<Figure size 432x288 with 1 Axes>"
      ]
     },
     "metadata": {
      "needs_background": "light"
     },
     "output_type": "display_data"
    }
   ],
   "source": [
    "plt.scatter(stds, returns)\n",
    "# plot Apple and CAT\n",
    "plt.scatter(df.std().iloc[0]*np.sqrt(250), df.mean().iloc[0], c='k')\n",
    "plt.scatter(df.std().iloc[1]*np.sqrt(250), df.mean().iloc[1], c='red')\n",
    "plt.scatter(min(stds), returns[stds.index(min(stds))], c='m')\n",
    "plt.title('Efficient Frontier')\n",
    "plt.ylabel('Portfolio return')\n",
    "plt.xlabel('Portfolio standard deviation')\n",
    "plt.show()"
   ]
  },
  {
   "cell_type": "code",
   "execution_count": 68,
   "metadata": {},
   "outputs": [],
   "source": [
    "# calculate point with lowest standard deviation\n",
    "returnsEfficient= returns[stds.index(min(stds))]"
   ]
  },
  {
   "cell_type": "code",
   "execution_count": 72,
   "metadata": {},
   "outputs": [],
   "source": [
    "# weights corresponding to efficient frontier\n",
    "eff_weights = sim_weights[stds.index(min(stds))]"
   ]
  },
  {
   "cell_type": "code",
   "execution_count": 73,
   "metadata": {},
   "outputs": [
    {
     "data": {
      "text/plain": [
       "array([0.37527766, 0.62472234])"
      ]
     },
     "execution_count": 73,
     "metadata": {},
     "output_type": "execute_result"
    }
   ],
   "source": [
    "eff_weights"
   ]
  },
  {
   "cell_type": "code",
   "execution_count": 91,
   "metadata": {},
   "outputs": [
    {
     "name": "stdout",
     "output_type": "stream",
     "text": [
      "AAPL Stock, weight 0.37527766245224936\n",
      "CAT Stock, weight 0.6247223375477506\n"
     ]
    }
   ],
   "source": [
    "for i in range(len(df.columns)):\n",
    "    print(f\"{df.columns[i]} Stock, weight {eff_weights[i]}\")\n"
   ]
  }
 ],
 "metadata": {
  "kernelspec": {
   "display_name": "Python 3",
   "language": "python",
   "name": "python3"
  },
  "language_info": {
   "codemirror_mode": {
    "name": "ipython",
    "version": 3
   },
   "file_extension": ".py",
   "mimetype": "text/x-python",
   "name": "python",
   "nbconvert_exporter": "python",
   "pygments_lexer": "ipython3",
   "version": "3.7.7"
  }
 },
 "nbformat": 4,
 "nbformat_minor": 4
}
